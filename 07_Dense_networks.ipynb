{
 "cells": [
  {
   "cell_type": "markdown",
   "metadata": {},
   "source": [
    "# Dense network\n",
    "Finally, try with neural networks"
   ]
  },
  {
   "cell_type": "code",
   "execution_count": 1,
   "metadata": {},
   "outputs": [],
   "source": [
    "import importlib; import cours_proj4_funcs; \n",
    "importlib.reload(cours_proj4_funcs)\n",
    "from cours_proj4_funcs import f_read_npzF, f_addIdxFeat, f_fileApp"
   ]
  },
  {
   "cell_type": "code",
   "execution_count": 2,
   "metadata": {},
   "outputs": [],
   "source": [
    "import numpy as np\n",
    "import os\n",
    "\n",
    "X_tr_ini, y_tr_ini, X_data_tr, fnames_tr, y_cat_tr = f_read_npzF(os.path.join('data', 'data_train.npz'))\n",
    "X_tr_ini1 = f_addIdxFeat(X_tr_ini)\n",
    "\n",
    "X_va_ini, y_va_ini, X_data_va, fnames_va, y_cat_va = f_read_npzF(os.path.join('data', 'data_valid.npz'))\n",
    "X_va_ini1 = f_addIdxFeat(X_va_ini)\n",
    "\n",
    "X_te_ini, y_te_ini, X_data_te, fnames_te, y_cat_te = f_read_npzF(os.path.join('data', 'data_test.npz'))\n",
    "X_te_ini1 = f_addIdxFeat(X_te_ini)"
   ]
  },
  {
   "cell_type": "code",
   "execution_count": 3,
   "metadata": {},
   "outputs": [],
   "source": [
    "# Standardize\n",
    "from sklearn.preprocessing import StandardScaler\n",
    "\n",
    "scaler = StandardScaler()\n",
    "\n",
    "X_tr_ini_scal = scaler.fit_transform(X_tr_ini)\n",
    "X_va_ini_scal = scaler.transform(X_va_ini)\n",
    "X_te_ini_scal = scaler.transform(X_te_ini)"
   ]
  },
  {
   "cell_type": "code",
   "execution_count": 4,
   "metadata": {},
   "outputs": [],
   "source": [
    "# Function to get batches of data\n",
    "def f_get_batches(X, y, batch_size):\n",
    "    # Enumerate indexes by steps of batch_size\n",
    "    # i: 0, b, 2b, 3b, 4b, .. where b is the batch size\n",
    "    for i in range(0, len(y), batch_size):\n",
    "        # \"yield\" data between index i and i+b (not included)\n",
    "        yield X[i : i+batch_size], y[i : i+batch_size]"
   ]
  },
  {
   "cell_type": "markdown",
   "metadata": {},
   "source": [
    "##### 1-layer dense network i.e. no hidden layer, just the input and output ones"
   ]
  },
  {
   "cell_type": "code",
   "execution_count": 5,
   "metadata": {},
   "outputs": [],
   "source": [
    "##**** Wiring.. ***\n",
    "import tensorflow as tf\n",
    "# y_hat = Xw + 𝑏 ; => y_hat = aX + b\n",
    "\n",
    "# Create placeholders\n",
    "X = tf.placeholder( dtype=tf.float32, shape=[None, 1280] ) # 1280 result from the high feature\n",
    "                \n",
    "y = tf.placeholder( dtype=tf.int32, shape=[None] ) # Vector of target values\n",
    "\n",
    "# Create variables\n",
    "W = tf.Variable( tf.zeros(shape=(1280, 6)) )\n",
    "b = tf.Variable( tf.zeros(shape=(6)) )\n",
    "\n",
    "# Compute logits\n",
    "logits = tf.matmul(X, W) + b\n",
    "\n",
    "# Cross-entropy loss function\n",
    "ce = tf.nn.sparse_softmax_cross_entropy_with_logits( labels = y, logits = logits )\n",
    "\n",
    "# Mean cross-entropy\n",
    "mean_ce = tf.reduce_mean(ce)\n",
    "\n",
    "# Gradient descent\n",
    "lr = tf.placeholder( dtype=tf.float32 )\n",
    "gd = tf.train.GradientDescentOptimizer( learning_rate=lr )\n",
    "\n",
    "# Minimize cross-entropy\n",
    "train_op = gd.minimize(mean_ce)\n",
    "\n",
    "# Compute predictions\n",
    "predictions = tf.argmax( logits # shape: (n, 6)\n",
    "                        ,axis = 1 # class with max logit\n",
    "                        ,output_type = tf.int32 ) # Same type as labels\n",
    "                        \n",
    "\n",
    "# Are the predictions correct?\n",
    "is_correct = tf.equal(y, predictions)\n",
    "\n",
    "# Accuracy\n",
    "accuracy = tf.reduce_mean(tf.cast(is_correct, dtype=tf.float32) #Convert booleans to 0/1 float numbers\n",
    "                          )"
   ]
  },
  {
   "cell_type": "code",
   "execution_count": 6,
   "metadata": {},
   "outputs": [],
   "source": [
    "##********* Run training using batch generator...\n",
    "\n",
    "%matplotlib inline\n",
    "import matplotlib.pyplot as plt\n",
    "\n",
    "# Accuracy scores after each batch\n",
    "train_acc_values = []\n",
    "valid_acc_values = []\n",
    "\n",
    "# Initialization operation\n",
    "initialization_op = tf.global_variables_initializer()\n",
    "\n",
    "with tf.Session() as sess:\n",
    "    # Initialize the graph\n",
    "    sess.run(initialization_op)\n",
    "    \n",
    "    # Get batches of data\n",
    "    for X_batch, y_batch in f_get_batches(X_tr_ini_scal, y_tr_ini, 64):\n",
    "        #print(X_batch.shape, y_batch.shape)\n",
    "        \n",
    "        # Run training and evaluate accuracy\n",
    "        _, train_acc = sess.run( [train_op, accuracy]\n",
    "                                ,feed_dict={ X: X_batch\n",
    "                                            ,y: y_batch\n",
    "                                            ,lr: 0.001 } ) # Learning rate\n",
    "                                \n",
    "        \n",
    "        train_acc_values.append(train_acc)\n",
    "        \n",
    "        # Evaluate validation accuracy\n",
    "        valid_acc = sess.run(accuracy\n",
    "                             ,feed_dict={X: X_va_ini_scal\n",
    "                                        ,y: y_va_ini } )\n",
    "        \n",
    "        valid_acc_values.append(valid_acc)\n",
    "        \n",
    "    # Get weight matrix and biases\n",
    "    W_fitted = W.eval()\n",
    "    b_fitted = b.eval()"
   ]
  },
  {
   "cell_type": "code",
   "execution_count": 7,
   "metadata": {},
   "outputs": [
    {
     "data": {
      "image/png": "[encoded data removed]",
      "text/plain": [
       "<Figure size 432x288 with 1 Axes>"
      ]
     },
     "metadata": {
      "needs_background": "light"
     },
     "output_type": "display_data"
    }
   ],
   "source": [
    "# Plot accuracy values\n",
    "plt.plot(train_acc_values, label='train')\n",
    "plt.plot(valid_acc_values, label='validation')\n",
    "\n",
    "plt.title('Validation accuracy: {:.3f}'\n",
    "          .format(valid_acc_values[-1]) )# Last validation accuracy value\n",
    "\n",
    "plt.xlabel('batch')\n",
    "plt.ylabel('accuracy')\n",
    "\n",
    "plt.legend()\n",
    "plt.show()"
   ]
  },
  {
   "cell_type": "code",
   "execution_count": 8,
   "metadata": {},
   "outputs": [
    {
     "name": "stdout",
     "output_type": "stream",
     "text": [
      "Test accuracy: 0.880\n"
     ]
    }
   ],
   "source": [
    "# Initialization operation\n",
    "initialization_op = tf.global_variables_initializer()\n",
    "\n",
    "with tf.Session() as sess:\n",
    "    # Initialize the graph\n",
    "    sess.run(initialization_op)\n",
    "    \n",
    "    # Compute test accuracy\n",
    "    acc_val = sess.run(accuracy\n",
    "                       ,feed_dict ={ X: X_te_ini_scal\n",
    "                                    ,y: y_te_ini\n",
    "                                    ,W: W_fitted     # Set weights\n",
    "                                    ,b: b_fitted } ) # Set biases\n",
    "                                \n",
    "    print('Test accuracy: {:.3f}'.format(acc_val))"
   ]
  },
  {
   "cell_type": "code",
   "execution_count": 9,
   "metadata": {},
   "outputs": [],
   "source": [
    "acc_val\n",
    "# Decision tree accuracy to append into the file \n",
    "f_fileApp('data/results09.csv',6,\"1-layer nn\", acc_val)"
   ]
  },
  {
   "cell_type": "markdown",
   "metadata": {},
   "source": [
    "#### 2-layer dense network i.e. one hidden layer"
   ]
  },
  {
   "cell_type": "code",
   "execution_count": 10,
   "metadata": {},
   "outputs": [],
   "source": [
    "import tensorflow as tf\n",
    "\n",
    "# Create the graph, using the dense() function from \n",
    "# the layers module and the TensorFlow initializers.\n",
    "graph = tf.Graph()\n",
    "\n",
    "with graph.as_default():\n",
    "    # Create placeholders\n",
    "    X = tf.placeholder(dtype=tf.float32, shape=[None, 1280])\n",
    "    y = tf.placeholder(dtype=tf.int32, shape=[None])\n",
    "\n",
    "    # Hidden layer with 16 units\n",
    "    hidden = tf.layers.dense(X    #intput data\n",
    "                            ,16   #nbr of output units\n",
    "                            ,activation = tf.nn.relu   # ReLU, # Activation function\n",
    "                            ,kernel_initializer = tf.variance_scaling_initializer(scale=2, seed=0)  # Weights initializer\n",
    "                            ,bias_initializer = tf.zeros_initializer()  # bias initializer\n",
    "                            ,name = 'hidden' ) # Layer name\n",
    "\n",
    "    # Output layer\n",
    "    logits = tf.layers.dense(hidden  #intput data\n",
    "                            ,6      #nbr of output units\n",
    "                            ,activation = None   #No activation function\n",
    "                            ,kernel_initializer = tf.variance_scaling_initializer(scale=1, seed=0)  # Weights initializer\n",
    "                            ,bias_initializer = tf.zeros_initializer()  # bias initializer\n",
    "                            ,name = 'output' )  # Layer name"
   ]
  },
  {
   "cell_type": "code",
   "execution_count": 11,
   "metadata": {},
   "outputs": [
    {
     "name": "stdout",
     "output_type": "stream",
     "text": [
      "<tf.Variable 'hidden/kernel:0' shape=(1280, 16) dtype=float32_ref>\n",
      "<tf.Variable 'hidden/bias:0' shape=(16,) dtype=float32_ref>\n",
      "<tf.Variable 'output/kernel:0' shape=(16, 6) dtype=float32_ref>\n",
      "<tf.Variable 'output/bias:0' shape=(6,) dtype=float32_ref>\n"
     ]
    }
   ],
   "source": [
    "# We can inspect the variables from the graph\n",
    "with graph.as_default():\n",
    "    # Get variables in the graph\n",
    "    for v in tf.trainable_variables():\n",
    "        print(v)"
   ]
  },
  {
   "cell_type": "code",
   "execution_count": 12,
   "metadata": {},
   "outputs": [],
   "source": [
    "#retrieving the variables\n",
    "with graph.as_default():\n",
    "    # Get weights/biases of the hidden layer\n",
    "    with tf.variable_scope('hidden', reuse=True):\n",
    "        W1 = tf.get_variable('kernel')\n",
    "        b1 = tf.get_variable('bias')\n",
    "\n",
    "    # Get weights/biases of the output layer\n",
    "    with tf.variable_scope('output', reuse=True):\n",
    "        W2 = tf.get_variable('kernel')\n",
    "        b2 = tf.get_variable('bias')"
   ]
  },
  {
   "cell_type": "code",
   "execution_count": 13,
   "metadata": {},
   "outputs": [],
   "source": [
    "# Loss function and training operation\n",
    "with graph.as_default():\n",
    "    # Loss fuction: mean cross-entropy\n",
    "    mean_ce = tf.reduce_mean( tf.nn.sparse_softmax_cross_entropy_with_logits(labels=y, logits=logits)\n",
    "                            )\n",
    "\n",
    "    # Gradient descent\n",
    "    lr = tf.placeholder(dtype =tf.float32)\n",
    "    \n",
    "    gd = tf.train.GradientDescentOptimizer(learning_rate = lr)\n",
    "\n",
    "    # Minimize cross-entropy\n",
    "    train_op = gd.minimize(mean_ce)\n",
    "\n",
    "    # Compute predictions and accuracy\n",
    "    predictions = tf.argmax(logits, axis=1, output_type=tf.int32)\n",
    "    \n",
    "    is_correct = tf.equal(y, predictions)\n",
    "    \n",
    "    accuracy = tf.reduce_mean(tf.cast(is_correct, dtype=tf.float32))"
   ]
  },
  {
   "cell_type": "code",
   "execution_count": 14,
   "metadata": {},
   "outputs": [],
   "source": [
    "# Batch generator\n",
    "def f_get_batches(X, y, batch_size):\n",
    "    # Shuffle X,y\n",
    "    shuffled_idx = np.arange(len(y)) # 1,2,...,n\n",
    "    np.random.shuffle(shuffled_idx)\n",
    "\n",
    "    # Enumerate indexes by steps of batch_size\n",
    "    # i: 0, b, 2b, 3b, 4b, .. where b is the batch size\n",
    "    for i in range(0, len(y), batch_size):\n",
    "        \n",
    "        # Batch indexes\n",
    "        batch_idx = shuffled_idx[i : i+batch_size]\n",
    "        \n",
    "        yield X[batch_idx], y[batch_idx]"
   ]
  },
  {
   "cell_type": "code",
   "execution_count": 15,
   "metadata": {},
   "outputs": [
    {
     "name": "stdout",
     "output_type": "stream",
     "text": [
      "Epoch 1 - valid: 0.388 train: 0.280 (mean)\n",
      "Epoch 2 - valid: 0.482 train: 0.456 (mean)\n",
      "Epoch 3 - valid: 0.554 train: 0.523 (mean)\n",
      "Epoch 4 - valid: 0.604 train: 0.595 (mean)\n",
      "Epoch 5 - valid: 0.619 train: 0.635 (mean)\n",
      "Epoch 6 - valid: 0.662 train: 0.691 (mean)\n",
      "Epoch 7 - valid: 0.712 train: 0.783 (mean)\n",
      "Epoch 8 - valid: 0.763 train: 0.841 (mean)\n",
      "Epoch 9 - valid: 0.777 train: 0.872 (mean)\n",
      "Epoch 10 - valid: 0.791 train: 0.891 (mean)\n",
      "Epoch 11 - valid: 0.813 train: 0.901 (mean)\n",
      "Epoch 12 - valid: 0.813 train: 0.904 (mean)\n",
      "Epoch 13 - valid: 0.820 train: 0.918 (mean)\n",
      "Epoch 14 - valid: 0.820 train: 0.931 (mean)\n",
      "Epoch 15 - valid: 0.827 train: 0.951 (mean)\n",
      "Epoch 16 - valid: 0.842 train: 0.957 (mean)\n",
      "Epoch 17 - valid: 0.842 train: 0.952 (mean)\n",
      "Epoch 18 - valid: 0.849 train: 0.966 (mean)\n",
      "Epoch 19 - valid: 0.849 train: 0.969 (mean)\n",
      "Epoch 20 - valid: 0.849 train: 0.967 (mean)\n",
      "Epoch 21 - valid: 0.849 train: 0.973 (mean)\n",
      "Epoch 22 - valid: 0.849 train: 0.978 (mean)\n",
      "Epoch 23 - valid: 0.856 train: 0.978 (mean)\n",
      "Epoch 24 - valid: 0.863 train: 0.971 (mean)\n",
      "Epoch 25 - valid: 0.863 train: 0.976 (mean)\n",
      "Epoch 26 - valid: 0.863 train: 0.981 (mean)\n",
      "Epoch 27 - valid: 0.878 train: 0.984 (mean)\n",
      "Epoch 28 - valid: 0.878 train: 0.984 (mean)\n",
      "Epoch 29 - valid: 0.878 train: 0.984 (mean)\n",
      "Epoch 30 - valid: 0.878 train: 0.984 (mean)\n",
      "Epoch 31 - valid: 0.878 train: 0.984 (mean)\n",
      "Epoch 32 - valid: 0.878 train: 0.984 (mean)\n",
      "Epoch 33 - valid: 0.878 train: 0.988 (mean)\n",
      "Epoch 34 - valid: 0.878 train: 0.988 (mean)\n",
      "Epoch 35 - valid: 0.892 train: 0.991 (mean)\n",
      "Epoch 36 - valid: 0.892 train: 0.985 (mean)\n",
      "Epoch 37 - valid: 0.892 train: 0.994 (mean)\n",
      "Epoch 38 - valid: 0.892 train: 0.994 (mean)\n",
      "Epoch 39 - valid: 0.892 train: 0.997 (mean)\n",
      "Epoch 40 - valid: 0.899 train: 0.997 (mean)\n",
      "Epoch 41 - valid: 0.899 train: 0.997 (mean)\n",
      "Epoch 42 - valid: 0.899 train: 0.997 (mean)\n",
      "Epoch 43 - valid: 0.899 train: 0.997 (mean)\n",
      "Epoch 44 - valid: 0.899 train: 0.997 (mean)\n",
      "Epoch 45 - valid: 0.899 train: 0.997 (mean)\n",
      "Epoch 46 - valid: 0.899 train: 0.997 (mean)\n",
      "Epoch 47 - valid: 0.899 train: 0.997 (mean)\n",
      "Epoch 48 - valid: 0.899 train: 0.997 (mean)\n",
      "Epoch 49 - valid: 0.899 train: 0.997 (mean)\n",
      "Epoch 50 - valid: 0.899 train: 0.997 (mean)\n",
      "Test accuracy: 0.940\n"
     ]
    }
   ],
   "source": [
    "# Validation accuracy\n",
    "valid_acc_values = []\n",
    "\n",
    "with tf.Session(graph=graph) as sess:\n",
    "    # Initialize variables\n",
    "    sess.run( tf.global_variables_initializer() )\n",
    "\n",
    "    # Set seed\n",
    "    np.random.seed(0)\n",
    "\n",
    "    # Train several epochs\n",
    "    for epoch in range(50):\n",
    "        # Accuracy values (train) after each batch\n",
    "        batch_acc = []\n",
    "\n",
    "        # Get batches of data\n",
    "        for X_batch, y_batch in f_get_batches(X_tr_ini_scal, y_tr_ini, 64):\n",
    "            # Run training and evaluate accuracy\n",
    "            _, acc_value = sess.run([train_op, accuracy]\n",
    "                                    ,feed_dict ={X: X_batch\n",
    "                                                ,y: y_batch\n",
    "                                                ,lr: 0.01 } # Learning rate\n",
    "                                    )\n",
    "\n",
    "            # Save accuracy (current batch)\n",
    "            batch_acc.append(acc_value)\n",
    "        \n",
    "        # Evaluate validation accuracy\n",
    "        valid_acc = sess.run(accuracy\n",
    "                             ,feed_dict ={X: X_va_ini_scal\n",
    "                                         ,y: y_va_ini  } )\n",
    "        \n",
    "        valid_acc_values.append(valid_acc)\n",
    "\n",
    "        # Print progress\n",
    "        print('Epoch {} - valid: {:.3f} train: {:.3f} (mean)'.format(epoch+1, valid_acc, np.mean(batch_acc) ))\n",
    "    \n",
    "    \n",
    "    # Weights of the hidden and output layers\n",
    "    weights_hidden = W1.eval()\n",
    "    weights_output = W2.eval()\n",
    "    \n",
    "    # Evaluate test accuracy\n",
    "    test_acc = sess.run( accuracy\n",
    "                        ,feed_dict ={ X: X_te_ini_scal #X_test\n",
    "                                     ,y: y_te_ini #y_test\n",
    "                                     #,training: False \n",
    "                                     } )\n",
    "    \n",
    "    print('Test accuracy: {:.3f}'.format(test_acc))\n",
    "    \n",
    "# Prints:\n",
    "# Epoch 1 - valid: 0.800 train: 0.627 (mean)\n",
    "# Epoch 2 - valid: 0.896 train: 0.851 (mean)\n",
    "# Epoch 3 - valid: 0.904 train: 0.882 (mean)\n",
    "# ...\n",
    "# Epoch 48 - valid: 0.950 train: 0.968 (mean)\n",
    "# Epoch 49 - valid: 0.952 train: 0.969 (mean)\n",
    "# Epoch 50 - valid: 0.952 train: 0.969 (mean)"
   ]
  },
  {
   "cell_type": "code",
   "execution_count": 16,
   "metadata": {},
   "outputs": [],
   "source": [
    "# Decision tree accuracy to append into the file \n",
    "f_fileApp('data/results09.csv',7,\"2-layer nn\", test_acc)"
   ]
  },
  {
   "cell_type": "code",
   "execution_count": 17,
   "metadata": {},
   "outputs": [
    {
     "data": {
      "image/png": "[encoded data removed]",
      "text/plain": [
       "<Figure size 432x288 with 1 Axes>"
      ]
     },
     "metadata": {
      "needs_background": "light"
     },
     "output_type": "display_data"
    }
   ],
   "source": [
    "%matplotlib inline\n",
    "import matplotlib.pyplot as plt\n",
    "\n",
    "# Plot accuracy values\n",
    "plt.plot(valid_acc_values)\n",
    "\n",
    "plt.title('Validation accuracy {:.3f} (mean last 3)'.format(np.mean(valid_acc_values[-3:]) )) # last three values \n",
    "\n",
    "plt.xlabel('epoch')\n",
    "plt.ylabel('accuracy')\n",
    "\n",
    "plt.show()"
   ]
  },
  {
   "cell_type": "raw",
   "metadata": {},
   "source": [
    "import pandas as pd\n",
    "\n",
    "# Output layer weights\n",
    "pd.DataFrame(weights_output\n",
    "            ,index=['unit {}'.format(i+1) for i in range(16)]\n",
    "            ,columns=[cat_name.split(':')[1] for cat_name in y_cat_te ] )"
   ]
  }
 ],
 "metadata": {
  "kernelspec": {
   "display_name": "Python 3",
   "language": "python",
   "name": "python3"
  },
  "language_info": {
   "codemirror_mode": {
    "name": "ipython",
    "version": 3
   },
   "file_extension": ".py",
   "mimetype": "text/x-python",
   "name": "python",
   "nbconvert_exporter": "python",
   "pygments_lexer": "ipython3",
   "version": "3.6.10"
  }
 },
 "nbformat": 4,
 "nbformat_minor": 4
}
