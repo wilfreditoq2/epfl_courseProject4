{
 "cells": [
  {
   "cell_type": "markdown",
   "metadata": {},
   "source": [
    "#### Loading data"
   ]
  },
  {
   "cell_type": "code",
   "execution_count": 1,
   "metadata": {},
   "outputs": [],
   "source": [
    "import pandas as pd\n",
    "import sqlite3"
   ]
  },
  {
   "cell_type": "code",
   "execution_count": 2,
   "metadata": {},
   "outputs": [],
   "source": [
    "disc_path = '/media/wilfredo/TOSHIBA EXT/root_extDisk/development/DS/5_Capstone_proj'\n",
    "\n",
    "files_path = disc_path+'/data/json_ieee/'\n",
    "\n",
    "dbName = \"covid_ieee.db\"\n",
    "dbCov_conn = sqlite3.connect(disc_path+\"/dbSQLites/\"+dbName)"
   ]
  },
  {
   "cell_type": "code",
   "execution_count": 3,
   "metadata": {},
   "outputs": [],
   "source": [
    "def f_run_query(query):\n",
    "    return pd.read_sql_query(query,dbCov_conn)"
   ]
  },
  {
   "cell_type": "code",
   "execution_count": 4,
   "metadata": {},
   "outputs": [],
   "source": [
    "df_ieee = f_run_query(\"\"\"\n",
    "SELECT uuid, title, text, url, published_dtint\n",
    "from covid_ieee2\n",
    "WHERE ( thread_fb_likes > 0\n",
    "or thread_fb_shares > 0 \n",
    "or thread_fb_comments > 0 )\n",
    "and published_dtint > 20200300;\n",
    "\"\"\")\n",
    "\n",
    "dbCov_conn.close()"
   ]
  },
  {
   "cell_type": "code",
   "execution_count": 5,
   "metadata": {},
   "outputs": [
    {
     "name": "stdout",
     "output_type": "stream",
     "text": [
      "(104517, 5)\n",
      "<class 'pandas.core.frame.DataFrame'>\n",
      "RangeIndex: 104517 entries, 0 to 104516\n",
      "Data columns (total 5 columns):\n",
      "uuid               104517 non-null object\n",
      "title              104517 non-null object\n",
      "text               104517 non-null object\n",
      "url                104517 non-null object\n",
      "published_dtint    104517 non-null int64\n",
      "dtypes: int64(1), object(4)\n",
      "memory usage: 4.0+ MB\n"
     ]
    }
   ],
   "source": [
    "print(df_ieee.shape)\n",
    "df_ieee.info()"
   ]
  },
  {
   "cell_type": "code",
   "execution_count": 6,
   "metadata": {},
   "outputs": [
    {
     "data": {
      "text/plain": [
       "uuid               0\n",
       "title              0\n",
       "text               0\n",
       "url                0\n",
       "published_dtint    0\n",
       "dtype: int64"
      ]
     },
     "execution_count": 6,
     "metadata": {},
     "output_type": "execute_result"
    }
   ],
   "source": [
    "df_ieee.isnull().sum()"
   ]
  },
  {
   "cell_type": "markdown",
   "metadata": {},
   "source": [
    "Some Feauture engineering"
   ]
  },
  {
   "cell_type": "code",
   "execution_count": 7,
   "metadata": {},
   "outputs": [
    {
     "data": {
      "text/html": [
       "<div>\n",
       "<style scoped>\n",
       "    .dataframe tbody tr th:only-of-type {\n",
       "        vertical-align: middle;\n",
       "    }\n",
       "\n",
       "    .dataframe tbody tr th {\n",
       "        vertical-align: top;\n",
       "    }\n",
       "\n",
       "    .dataframe thead th {\n",
       "        text-align: right;\n",
       "    }\n",
       "</style>\n",
       "<table border=\"1\" class=\"dataframe\">\n",
       "  <thead>\n",
       "    <tr style=\"text-align: right;\">\n",
       "      <th></th>\n",
       "      <th>uuid</th>\n",
       "      <th>title</th>\n",
       "      <th>text</th>\n",
       "      <th>url</th>\n",
       "      <th>published_dtint</th>\n",
       "      <th>title_count</th>\n",
       "      <th>text_count</th>\n",
       "      <th>text_count_unique</th>\n",
       "    </tr>\n",
       "  </thead>\n",
       "  <tbody>\n",
       "    <tr>\n",
       "      <th>0</th>\n",
       "      <td>d11f090a7d1724f61ea73f3c92974c2ba8f30252</td>\n",
       "      <td>Coronavirus profiteering: Trade Me user sellin...</td>\n",
       "      <td>While supermarkets urge customers not to stock...</td>\n",
       "      <td>https://www.stuff.co.nz/national/health/119916...</td>\n",
       "      <td>20200301</td>\n",
       "      <td>11</td>\n",
       "      <td>459</td>\n",
       "      <td>273</td>\n",
       "    </tr>\n",
       "    <tr>\n",
       "      <th>1</th>\n",
       "      <td>15969b6f57849f9d0437ae9de061a8b1528b21cd</td>\n",
       "      <td>Coronavirus: Can you catch coronavirus twice?</td>\n",
       "      <td>Experts say despite reports of people being ab...</td>\n",
       "      <td>https://www.stuff.co.nz/national/health/119914...</td>\n",
       "      <td>20200301</td>\n",
       "      <td>6</td>\n",
       "      <td>603</td>\n",
       "      <td>327</td>\n",
       "    </tr>\n",
       "    <tr>\n",
       "      <th>2</th>\n",
       "      <td>96dc781d9df893e1a0bba60aa91e56525e46f015</td>\n",
       "      <td>Reviewing estimates of the basic reproduction ...</td>\n",
       "      <td>European Centre for Disease Prevention and Con...</td>\n",
       "      <td>https://www.ecdc.europa.eu/en</td>\n",
       "      <td>20200301</td>\n",
       "      <td>16</td>\n",
       "      <td>403</td>\n",
       "      <td>233</td>\n",
       "    </tr>\n",
       "    <tr>\n",
       "      <th>3</th>\n",
       "      <td>19abc4d5cde4e5ff1493b1ac9228bde0c987f7db</td>\n",
       "      <td>Sunday Morning Futures w/ Maria Bartiromo - Su...</td>\n",
       "      <td>On today's episode of 'Sunday Morning Futures'...</td>\n",
       "      <td>http://video.foxnews.com/v/6137464031001/</td>\n",
       "      <td>20200301</td>\n",
       "      <td>16</td>\n",
       "      <td>41</td>\n",
       "      <td>38</td>\n",
       "    </tr>\n",
       "    <tr>\n",
       "      <th>4</th>\n",
       "      <td>b5bb9f8da02662666d351a5914bf028eb8d5a89f</td>\n",
       "      <td>Nostradamus prediction: Prophet warned Italy o...</td>\n",
       "      <td>The coronavirus has spread to at least 67 coun...</td>\n",
       "      <td>https://www.express.co.uk/news/weird/1249539/N...</td>\n",
       "      <td>20200301</td>\n",
       "      <td>13</td>\n",
       "      <td>732</td>\n",
       "      <td>451</td>\n",
       "    </tr>\n",
       "  </tbody>\n",
       "</table>\n",
       "</div>"
      ],
      "text/plain": [
       "                                       uuid  \\\n",
       "0  d11f090a7d1724f61ea73f3c92974c2ba8f30252   \n",
       "1  15969b6f57849f9d0437ae9de061a8b1528b21cd   \n",
       "2  96dc781d9df893e1a0bba60aa91e56525e46f015   \n",
       "3  19abc4d5cde4e5ff1493b1ac9228bde0c987f7db   \n",
       "4  b5bb9f8da02662666d351a5914bf028eb8d5a89f   \n",
       "\n",
       "                                               title  \\\n",
       "0  Coronavirus profiteering: Trade Me user sellin...   \n",
       "1      Coronavirus: Can you catch coronavirus twice?   \n",
       "2  Reviewing estimates of the basic reproduction ...   \n",
       "3  Sunday Morning Futures w/ Maria Bartiromo - Su...   \n",
       "4  Nostradamus prediction: Prophet warned Italy o...   \n",
       "\n",
       "                                                text  \\\n",
       "0  While supermarkets urge customers not to stock...   \n",
       "1  Experts say despite reports of people being ab...   \n",
       "2  European Centre for Disease Prevention and Con...   \n",
       "3  On today's episode of 'Sunday Morning Futures'...   \n",
       "4  The coronavirus has spread to at least 67 coun...   \n",
       "\n",
       "                                                 url  published_dtint  \\\n",
       "0  https://www.stuff.co.nz/national/health/119916...         20200301   \n",
       "1  https://www.stuff.co.nz/national/health/119914...         20200301   \n",
       "2                      https://www.ecdc.europa.eu/en         20200301   \n",
       "3          http://video.foxnews.com/v/6137464031001/         20200301   \n",
       "4  https://www.express.co.uk/news/weird/1249539/N...         20200301   \n",
       "\n",
       "   title_count  text_count  text_count_unique  \n",
       "0           11         459                273  \n",
       "1            6         603                327  \n",
       "2           16         403                233  \n",
       "3           16          41                 38  \n",
       "4           13         732                451  "
      ]
     },
     "execution_count": 7,
     "metadata": {},
     "output_type": "execute_result"
    }
   ],
   "source": [
    "df_ieee['title_count'] = df_ieee['title'].apply(lambda x: len(x.strip().split()) )\n",
    "df_ieee['text_count']   = df_ieee['text'].apply(lambda x: len(x.strip().split()) )\n",
    "df_ieee['text_count_unique'] = df_ieee['text'].apply(lambda x:len(set(str(x).split())) )\n",
    "df_ieee.head()"
   ]
  },
  {
   "cell_type": "code",
   "execution_count": 8,
   "metadata": {},
   "outputs": [
    {
     "name": "stdout",
     "output_type": "stream",
     "text": [
      "<class 'pandas.core.frame.DataFrame'>\n",
      "RangeIndex: 104517 entries, 0 to 104516\n",
      "Data columns (total 8 columns):\n",
      "uuid                 104517 non-null object\n",
      "title                104517 non-null object\n",
      "text                 104517 non-null object\n",
      "url                  104517 non-null object\n",
      "published_dtint      104517 non-null int64\n",
      "title_count          104517 non-null int64\n",
      "text_count           104517 non-null int64\n",
      "text_count_unique    104517 non-null int64\n",
      "dtypes: int64(4), object(4)\n",
      "memory usage: 6.4+ MB\n"
     ]
    }
   ],
   "source": [
    "df_ieee.info()"
   ]
  },
  {
   "cell_type": "code",
   "execution_count": 9,
   "metadata": {},
   "outputs": [
    {
     "data": {
      "text/plain": [
       "count     104517\n",
       "unique    102602\n",
       "top             \n",
       "freq         141\n",
       "Name: text, dtype: object"
      ]
     },
     "execution_count": 9,
     "metadata": {},
     "output_type": "execute_result"
    }
   ],
   "source": [
    "df_ieee['text'].describe(include='all')"
   ]
  },
  {
   "cell_type": "markdown",
   "metadata": {},
   "source": [
    "#### Removing possible duplicates based on column title and text"
   ]
  },
  {
   "cell_type": "code",
   "execution_count": 10,
   "metadata": {},
   "outputs": [
    {
     "data": {
      "text/plain": [
       "count     103591\n",
       "unique    102602\n",
       "top             \n",
       "freq         140\n",
       "Name: text, dtype: object"
      ]
     },
     "execution_count": 10,
     "metadata": {},
     "output_type": "execute_result"
    }
   ],
   "source": [
    "df_ieee.drop_duplicates(['title', 'text'], inplace=True)\n",
    "df_ieee['text'].describe(include='all')"
   ]
  },
  {
   "cell_type": "code",
   "execution_count": 11,
   "metadata": {},
   "outputs": [
    {
     "data": {
      "text/plain": [
       "count               103591\n",
       "unique               98667\n",
       "top       EarthLink - News\n",
       "freq                   194\n",
       "Name: title, dtype: object"
      ]
     },
     "execution_count": 11,
     "metadata": {},
     "output_type": "execute_result"
    }
   ],
   "source": [
    "df_ieee['title'].describe(include='all')"
   ]
  },
  {
   "cell_type": "markdown",
   "metadata": {},
   "source": [
    "#### Take a Look at the Data:"
   ]
  },
  {
   "cell_type": "code",
   "execution_count": 12,
   "metadata": {},
   "outputs": [
    {
     "data": {
      "text/html": [
       "<div>\n",
       "<style scoped>\n",
       "    .dataframe tbody tr th:only-of-type {\n",
       "        vertical-align: middle;\n",
       "    }\n",
       "\n",
       "    .dataframe tbody tr th {\n",
       "        vertical-align: top;\n",
       "    }\n",
       "\n",
       "    .dataframe thead th {\n",
       "        text-align: right;\n",
       "    }\n",
       "</style>\n",
       "<table border=\"1\" class=\"dataframe\">\n",
       "  <thead>\n",
       "    <tr style=\"text-align: right;\">\n",
       "      <th></th>\n",
       "      <th>uuid</th>\n",
       "      <th>title</th>\n",
       "      <th>text</th>\n",
       "      <th>url</th>\n",
       "      <th>published_dtint</th>\n",
       "      <th>title_count</th>\n",
       "      <th>text_count</th>\n",
       "      <th>text_count_unique</th>\n",
       "    </tr>\n",
       "  </thead>\n",
       "  <tbody>\n",
       "    <tr>\n",
       "      <th>0</th>\n",
       "      <td>d11f090a7d1724f61ea73f3c92974c2ba8f30252</td>\n",
       "      <td>Coronavirus profiteering: Trade Me user sellin...</td>\n",
       "      <td>While supermarkets urge customers not to stock...</td>\n",
       "      <td>https://www.stuff.co.nz/national/health/119916...</td>\n",
       "      <td>20200301</td>\n",
       "      <td>11</td>\n",
       "      <td>459</td>\n",
       "      <td>273</td>\n",
       "    </tr>\n",
       "    <tr>\n",
       "      <th>1</th>\n",
       "      <td>15969b6f57849f9d0437ae9de061a8b1528b21cd</td>\n",
       "      <td>Coronavirus: Can you catch coronavirus twice?</td>\n",
       "      <td>Experts say despite reports of people being ab...</td>\n",
       "      <td>https://www.stuff.co.nz/national/health/119914...</td>\n",
       "      <td>20200301</td>\n",
       "      <td>6</td>\n",
       "      <td>603</td>\n",
       "      <td>327</td>\n",
       "    </tr>\n",
       "    <tr>\n",
       "      <th>2</th>\n",
       "      <td>96dc781d9df893e1a0bba60aa91e56525e46f015</td>\n",
       "      <td>Reviewing estimates of the basic reproduction ...</td>\n",
       "      <td>European Centre for Disease Prevention and Con...</td>\n",
       "      <td>https://www.ecdc.europa.eu/en</td>\n",
       "      <td>20200301</td>\n",
       "      <td>16</td>\n",
       "      <td>403</td>\n",
       "      <td>233</td>\n",
       "    </tr>\n",
       "    <tr>\n",
       "      <th>3</th>\n",
       "      <td>19abc4d5cde4e5ff1493b1ac9228bde0c987f7db</td>\n",
       "      <td>Sunday Morning Futures w/ Maria Bartiromo - Su...</td>\n",
       "      <td>On today's episode of 'Sunday Morning Futures'...</td>\n",
       "      <td>http://video.foxnews.com/v/6137464031001/</td>\n",
       "      <td>20200301</td>\n",
       "      <td>16</td>\n",
       "      <td>41</td>\n",
       "      <td>38</td>\n",
       "    </tr>\n",
       "    <tr>\n",
       "      <th>4</th>\n",
       "      <td>b5bb9f8da02662666d351a5914bf028eb8d5a89f</td>\n",
       "      <td>Nostradamus prediction: Prophet warned Italy o...</td>\n",
       "      <td>The coronavirus has spread to at least 67 coun...</td>\n",
       "      <td>https://www.express.co.uk/news/weird/1249539/N...</td>\n",
       "      <td>20200301</td>\n",
       "      <td>13</td>\n",
       "      <td>732</td>\n",
       "      <td>451</td>\n",
       "    </tr>\n",
       "  </tbody>\n",
       "</table>\n",
       "</div>"
      ],
      "text/plain": [
       "                                       uuid  \\\n",
       "0  d11f090a7d1724f61ea73f3c92974c2ba8f30252   \n",
       "1  15969b6f57849f9d0437ae9de061a8b1528b21cd   \n",
       "2  96dc781d9df893e1a0bba60aa91e56525e46f015   \n",
       "3  19abc4d5cde4e5ff1493b1ac9228bde0c987f7db   \n",
       "4  b5bb9f8da02662666d351a5914bf028eb8d5a89f   \n",
       "\n",
       "                                               title  \\\n",
       "0  Coronavirus profiteering: Trade Me user sellin...   \n",
       "1      Coronavirus: Can you catch coronavirus twice?   \n",
       "2  Reviewing estimates of the basic reproduction ...   \n",
       "3  Sunday Morning Futures w/ Maria Bartiromo - Su...   \n",
       "4  Nostradamus prediction: Prophet warned Italy o...   \n",
       "\n",
       "                                                text  \\\n",
       "0  While supermarkets urge customers not to stock...   \n",
       "1  Experts say despite reports of people being ab...   \n",
       "2  European Centre for Disease Prevention and Con...   \n",
       "3  On today's episode of 'Sunday Morning Futures'...   \n",
       "4  The coronavirus has spread to at least 67 coun...   \n",
       "\n",
       "                                                 url  published_dtint  \\\n",
       "0  https://www.stuff.co.nz/national/health/119916...         20200301   \n",
       "1  https://www.stuff.co.nz/national/health/119914...         20200301   \n",
       "2                      https://www.ecdc.europa.eu/en         20200301   \n",
       "3          http://video.foxnews.com/v/6137464031001/         20200301   \n",
       "4  https://www.express.co.uk/news/weird/1249539/N...         20200301   \n",
       "\n",
       "   title_count  text_count  text_count_unique  \n",
       "0           11         459                273  \n",
       "1            6         603                327  \n",
       "2           16         403                233  \n",
       "3           16          41                 38  \n",
       "4           13         732                451  "
      ]
     },
     "execution_count": 12,
     "metadata": {},
     "output_type": "execute_result"
    }
   ],
   "source": [
    "df_ieee.head()"
   ]
  },
  {
   "cell_type": "code",
   "execution_count": 13,
   "metadata": {},
   "outputs": [
    {
     "data": {
      "text/html": [
       "<div>\n",
       "<style scoped>\n",
       "    .dataframe tbody tr th:only-of-type {\n",
       "        vertical-align: middle;\n",
       "    }\n",
       "\n",
       "    .dataframe tbody tr th {\n",
       "        vertical-align: top;\n",
       "    }\n",
       "\n",
       "    .dataframe thead th {\n",
       "        text-align: right;\n",
       "    }\n",
       "</style>\n",
       "<table border=\"1\" class=\"dataframe\">\n",
       "  <thead>\n",
       "    <tr style=\"text-align: right;\">\n",
       "      <th></th>\n",
       "      <th>published_dtint</th>\n",
       "      <th>title_count</th>\n",
       "      <th>text_count</th>\n",
       "      <th>text_count_unique</th>\n",
       "    </tr>\n",
       "  </thead>\n",
       "  <tbody>\n",
       "    <tr>\n",
       "      <th>count</th>\n",
       "      <td>1.035910e+05</td>\n",
       "      <td>103591.000000</td>\n",
       "      <td>103591.000000</td>\n",
       "      <td>103591.000000</td>\n",
       "    </tr>\n",
       "    <tr>\n",
       "      <th>mean</th>\n",
       "      <td>2.020032e+07</td>\n",
       "      <td>11.624514</td>\n",
       "      <td>595.393046</td>\n",
       "      <td>320.648020</td>\n",
       "    </tr>\n",
       "    <tr>\n",
       "      <th>std</th>\n",
       "      <td>7.221096e+00</td>\n",
       "      <td>3.700817</td>\n",
       "      <td>627.379309</td>\n",
       "      <td>239.147422</td>\n",
       "    </tr>\n",
       "    <tr>\n",
       "      <th>min</th>\n",
       "      <td>2.020030e+07</td>\n",
       "      <td>0.000000</td>\n",
       "      <td>0.000000</td>\n",
       "      <td>0.000000</td>\n",
       "    </tr>\n",
       "    <tr>\n",
       "      <th>25%</th>\n",
       "      <td>2.020031e+07</td>\n",
       "      <td>9.000000</td>\n",
       "      <td>271.000000</td>\n",
       "      <td>174.000000</td>\n",
       "    </tr>\n",
       "    <tr>\n",
       "      <th>50%</th>\n",
       "      <td>2.020032e+07</td>\n",
       "      <td>11.000000</td>\n",
       "      <td>463.000000</td>\n",
       "      <td>274.000000</td>\n",
       "    </tr>\n",
       "    <tr>\n",
       "      <th>75%</th>\n",
       "      <td>2.020032e+07</td>\n",
       "      <td>14.000000</td>\n",
       "      <td>754.000000</td>\n",
       "      <td>415.000000</td>\n",
       "    </tr>\n",
       "    <tr>\n",
       "      <th>max</th>\n",
       "      <td>2.020033e+07</td>\n",
       "      <td>62.000000</td>\n",
       "      <td>16704.000000</td>\n",
       "      <td>4783.000000</td>\n",
       "    </tr>\n",
       "  </tbody>\n",
       "</table>\n",
       "</div>"
      ],
      "text/plain": [
       "       published_dtint    title_count     text_count  text_count_unique\n",
       "count     1.035910e+05  103591.000000  103591.000000      103591.000000\n",
       "mean      2.020032e+07      11.624514     595.393046         320.648020\n",
       "std       7.221096e+00       3.700817     627.379309         239.147422\n",
       "min       2.020030e+07       0.000000       0.000000           0.000000\n",
       "25%       2.020031e+07       9.000000     271.000000         174.000000\n",
       "50%       2.020032e+07      11.000000     463.000000         274.000000\n",
       "75%       2.020032e+07      14.000000     754.000000         415.000000\n",
       "max       2.020033e+07      62.000000   16704.000000        4783.000000"
      ]
     },
     "execution_count": 13,
     "metadata": {},
     "output_type": "execute_result"
    }
   ],
   "source": [
    "df_ieee.describe()"
   ]
  },
  {
   "cell_type": "markdown",
   "metadata": {},
   "source": [
    "#### Taking `25000` samples for brief calculus"
   ]
  },
  {
   "cell_type": "code",
   "execution_count": 14,
   "metadata": {},
   "outputs": [],
   "source": [
    "df = df_ieee.sample(25000, random_state=2)\n",
    "del df_ieee"
   ]
  },
  {
   "cell_type": "code",
   "execution_count": 15,
   "metadata": {},
   "outputs": [
    {
     "name": "stdout",
     "output_type": "stream",
     "text": [
      "<class 'pandas.core.frame.DataFrame'>\n",
      "Int64Index: 25000 entries, 86305 to 99416\n",
      "Data columns (total 8 columns):\n",
      "uuid                 25000 non-null object\n",
      "title                25000 non-null object\n",
      "text                 25000 non-null object\n",
      "url                  25000 non-null object\n",
      "published_dtint      25000 non-null int64\n",
      "title_count          25000 non-null int64\n",
      "text_count           25000 non-null int64\n",
      "text_count_unique    25000 non-null int64\n",
      "dtypes: int64(4), object(4)\n",
      "memory usage: 1.7+ MB\n"
     ]
    }
   ],
   "source": [
    "df.dropna(inplace=True)\n",
    "df.info()"
   ]
  },
  {
   "cell_type": "markdown",
   "metadata": {},
   "source": [
    "#### Using Spacy for tex processing"
   ]
  },
  {
   "cell_type": "code",
   "execution_count": 16,
   "metadata": {},
   "outputs": [],
   "source": [
    "#NLP \n",
    "import spacy\n",
    "from spacy.lang.en.stop_words import STOP_WORDS\n",
    "import en_core_sci_lg  # model downloaded in previous step"
   ]
  },
  {
   "cell_type": "code",
   "execution_count": 17,
   "metadata": {},
   "outputs": [
    {
     "data": {
      "text/plain": [
       "['me',\n",
       " 'herself',\n",
       " 'off',\n",
       " 'if',\n",
       " 'another',\n",
       " 'anywhere',\n",
       " 'via',\n",
       " 'whereby',\n",
       " 'five',\n",
       " 'make']"
      ]
     },
     "execution_count": 17,
     "metadata": {},
     "output_type": "execute_result"
    }
   ],
   "source": [
    "import string\n",
    "\n",
    "punctuations = string.punctuation\n",
    "stopwords = list(STOP_WORDS)\n",
    "stopwords[:10]"
   ]
  },
  {
   "cell_type": "raw",
   "metadata": {},
   "source": [
    "custom_stop_words = [\n",
    "    'doi', 'preprint', 'copyright', 'peer', 'reviewed', 'org', 'https', 'et', 'al', 'author', 'figure', \n",
    "    'rights', 'reserved', 'permission', 'used', 'using', 'biorxiv', 'medrxiv', 'license', 'fig', 'fig.', \n",
    "    'al.', 'Elsevier', 'PMC', 'CZI', 'www'\n",
    "]\n",
    "\n",
    "for w in custom_stop_words:\n",
    "    if w not in stopwords:\n",
    "        stopwords.append(w)"
   ]
  },
  {
   "cell_type": "code",
   "execution_count": 19,
   "metadata": {},
   "outputs": [],
   "source": [
    "# Parser\n",
    "parser = en_core_sci_lg.load(disable=[\"tagger\", \"ner\"])\n",
    "parser.max_length = 7000000\n",
    "\n",
    "def f_spacy_tokenizer(sentence):\n",
    "    mytokens = parser(sentence)\n",
    "    mytokens = [ word.lemma_.lower().strip() if word.lemma_ != \"-PRON-\" else word.lower_ for word in mytokens ]\n",
    "    mytokens = [ word for word in mytokens if word not in stopwords and word not in punctuations ]\n",
    "    mytokens = \" \".join([i for i in mytokens])\n",
    "    return mytokens"
   ]
  },
  {
   "cell_type": "markdown",
   "metadata": {},
   "source": [
    "Applying the text-processing function on the body_text."
   ]
  },
  {
   "cell_type": "code",
   "execution_count": 20,
   "metadata": {},
   "outputs": [
    {
     "name": "stderr",
     "output_type": "stream",
     "text": [
      "100%|██████████| 25000/25000 [19:26<00:00, 21.43it/s]\n"
     ]
    }
   ],
   "source": [
    "from tqdm import tqdm\n",
    "\n",
    "tqdm.pandas()\n",
    "df[\"processed_text\"] = df[\"text\"].progress_apply(f_spacy_tokenizer)"
   ]
  },
  {
   "cell_type": "code",
   "execution_count": 21,
   "metadata": {},
   "outputs": [],
   "source": [
    "import seaborn as sns"
   ]
  },
  {
   "cell_type": "code",
   "execution_count": 22,
   "metadata": {},
   "outputs": [
    {
     "data": {
      "text/plain": [
       "count    25000.00000\n",
       "mean       593.86628\n",
       "std        629.73857\n",
       "min          0.00000\n",
       "25%        270.00000\n",
       "50%        462.00000\n",
       "75%        750.00000\n",
       "max      16386.00000\n",
       "Name: text_count, dtype: float64"
      ]
     },
     "execution_count": 22,
     "metadata": {},
     "output_type": "execute_result"
    },
    {
     "data": {
      "image/png": "[encoded data removed]",
      "text/plain": [
       "<Figure size 432x288 with 1 Axes>"
      ]
     },
     "metadata": {
      "needs_background": "light"
     },
     "output_type": "display_data"
    }
   ],
   "source": [
    "sns.distplot(df['text_count'])\n",
    "df['text_count'].describe()"
   ]
  },
  {
   "cell_type": "code",
   "execution_count": 23,
   "metadata": {},
   "outputs": [
    {
     "data": {
      "text/plain": [
       "count    25000.000000\n",
       "mean       319.749600\n",
       "std        239.262168\n",
       "min          0.000000\n",
       "25%        174.000000\n",
       "50%        274.000000\n",
       "75%        413.000000\n",
       "max       4543.000000\n",
       "Name: text_count_unique, dtype: float64"
      ]
     },
     "execution_count": 23,
     "metadata": {},
     "output_type": "execute_result"
    },
    {
     "data": {
      "image/png": "[encoded data removed]",
      "text/plain": [
       "<Figure size 432x288 with 1 Axes>"
      ]
     },
     "metadata": {
      "needs_background": "light"
     },
     "output_type": "display_data"
    }
   ],
   "source": [
    "sns.distplot(df['text_count_unique'])\n",
    "df['text_count_unique'].describe()"
   ]
  },
  {
   "cell_type": "markdown",
   "metadata": {},
   "source": [
    "#### Vectorization"
   ]
  },
  {
   "cell_type": "code",
   "execution_count": 24,
   "metadata": {},
   "outputs": [],
   "source": [
    "from sklearn.feature_extraction.text import TfidfVectorizer\n",
    "\n",
    "def f_vectorize(text, maxx_features):   #maxx_features\n",
    "    vectorizer = TfidfVectorizer(max_features=maxx_features)\n",
    "    X = vectorizer.fit_transform(text)\n",
    "    return X"
   ]
  },
  {
   "cell_type": "markdown",
   "metadata": {},
   "source": [
    "Vectorize our data. We will be clustering based off the content of the body text. The maximum number of features will be limited. Only the top 2 ** 12 features will be used, eseentially acting as a noise filter. Additionally, more features cause painfully long runtimes."
   ]
  },
  {
   "cell_type": "code",
   "execution_count": 25,
   "metadata": {},
   "outputs": [
    {
     "data": {
      "text/plain": [
       "(25000, 4096)"
      ]
     },
     "execution_count": 25,
     "metadata": {},
     "output_type": "execute_result"
    }
   ],
   "source": [
    "text = df['processed_text'].values\n",
    "X = f_vectorize(text, 2 ** 12)  #2**12 = 4096\n",
    "X.shape"
   ]
  },
  {
   "cell_type": "markdown",
   "metadata": {},
   "source": [
    "### PCA & Clustering"
   ]
  },
  {
   "cell_type": "code",
   "execution_count": 26,
   "metadata": {},
   "outputs": [
    {
     "data": {
      "text/plain": [
       "(25000, 2978)"
      ]
     },
     "execution_count": 26,
     "metadata": {},
     "output_type": "execute_result"
    }
   ],
   "source": [
    "from sklearn.decomposition import PCA\n",
    "\n",
    "pca = PCA(n_components=0.95, random_state=2)\n",
    "X_reduced= pca.fit_transform(X.toarray())\n",
    "X_reduced.shape"
   ]
  },
  {
   "cell_type": "code",
   "execution_count": 27,
   "metadata": {},
   "outputs": [],
   "source": [
    "from sklearn.cluster import KMeans"
   ]
  },
  {
   "cell_type": "markdown",
   "metadata": {},
   "source": [
    "#### find best n_clusters"
   ]
  },
  {
   "cell_type": "code",
   "execution_count": 28,
   "metadata": {},
   "outputs": [],
   "source": [
    "from datetime import datetime"
   ]
  },
  {
   "cell_type": "code",
   "execution_count": 32,
   "metadata": {},
   "outputs": [
    {
     "name": "stdout",
     "output_type": "stream",
     "text": [
      "started : 03:56:33.496665\n",
      "end : 07:32:55.201870\n"
     ]
    }
   ],
   "source": [
    "import numpy as np\n",
    "from sklearn import metrics\n",
    "from scipy.spatial.distance import cdist\n",
    "\n",
    "print(\"started :\", datetime.now().time())\n",
    "\n",
    "# run kmeans with many different k\n",
    "distortions = []\n",
    "K = range(2, 50)\n",
    "for k in K:\n",
    "    k_means = KMeans(n_clusters=k, random_state=2).fit(X_reduced)\n",
    "    \n",
    "    distortions.append(sum( np.min(cdist(X_reduced, k_means.cluster_centers_, 'euclidean'), axis=1) ) / X.shape[0])\n",
    "    #print('Found distortion for {} clusters'.format(k))\n",
    "\n",
    "print(\"end :\", datetime.now().time())"
   ]
  },
  {
   "cell_type": "code",
   "execution_count": 34,
   "metadata": {},
   "outputs": [
    {
     "name": "stdout",
     "output_type": "stream",
     "text": [
      "started : 12:38:17.158851\n"
     ]
    },
    {
     "data": {
      "image/png": "[encoded data removed]",
      "text/plain": [
       "<Figure size 432x288 with 1 Axes>"
      ]
     },
     "metadata": {
      "needs_background": "light"
     },
     "output_type": "display_data"
    },
    {
     "name": "stdout",
     "output_type": "stream",
     "text": [
      "end : 12:38:17.297725\n"
     ]
    }
   ],
   "source": [
    "import matplotlib.pyplot as plt\n",
    "\n",
    "print(\"started :\", datetime.now().time())\n",
    "\n",
    "X_line = [K[0], K[-1]]\n",
    "Y_line = [distortions[0], distortions[-1]]\n",
    "\n",
    "# Plot the elbow\n",
    "plt.plot(K, distortions, 'b-')\n",
    "plt.plot(X_line, Y_line, 'r')\n",
    "plt.xlabel('k')\n",
    "plt.ylabel('Distortion')\n",
    "plt.title('The Elbow Method showing the optimal k')\n",
    "plt.show()\n",
    "\n",
    "print(\"end :\", datetime.now().time())"
   ]
  },
  {
   "cell_type": "markdown",
   "metadata": {},
   "source": [
    "### Run k-means\n",
    "Now that we have an appropriate k value, we can run k-means on the PCA-processed feature vector (X_reduced)."
   ]
  },
  {
   "cell_type": "code",
   "execution_count": 29,
   "metadata": {},
   "outputs": [],
   "source": [
    "k = 13 #20\n",
    "kmeans = KMeans(n_clusters=k, random_state=2)\n",
    "\n",
    "y_pred = kmeans.fit_predict(X_reduced)  #y_pred = kmeans.fit(X_reduced); y_pred.predict(X_reduced)\n",
    "\n",
    "df['y'] = y_pred"
   ]
  },
  {
   "cell_type": "code",
   "execution_count": 30,
   "metadata": {},
   "outputs": [
    {
     "data": {
      "text/plain": [
       "array([ 5,  0, 12, 11,  9,  1,  4,  6,  8,  3,  7, 10,  2])"
      ]
     },
     "execution_count": 30,
     "metadata": {},
     "output_type": "execute_result"
    }
   ],
   "source": [
    "df['y'].unique()"
   ]
  },
  {
   "cell_type": "markdown",
   "metadata": {},
   "source": [
    "### Verify our clustering by Classifying it\n",
    "After running kmeans and that the data is now \"labeled\", we should now be able to use supervised learning to see how well the clustering generalizes."
   ]
  },
  {
   "cell_type": "code",
   "execution_count": 33,
   "metadata": {},
   "outputs": [
    {
     "name": "stdout",
     "output_type": "stream",
     "text": [
      "X_train size: 20000\n",
      "X_test size: 5000 \n",
      "\n"
     ]
    }
   ],
   "source": [
    "from sklearn.model_selection import train_test_split\n",
    "\n",
    "X_train, X_test, y_train, y_test = train_test_split(X.toarray(),y_pred, test_size=0.2, random_state=2)\n",
    "\n",
    "print(\"X_train size:\", len(X_train))\n",
    "print(\"X_test size:\", len(X_test), \"\\n\")"
   ]
  },
  {
   "cell_type": "code",
   "execution_count": 31,
   "metadata": {},
   "outputs": [],
   "source": [
    "# function to print out classification model report\n",
    "def f_classification_report(model_name, test, pred):\n",
    "    \n",
    "    from sklearn.metrics import accuracy_score, precision_score, recall_score, f1_score\n",
    "    \n",
    "    print(model_name, \":\\n\")\n",
    "    \n",
    "    print(\"Accuracy Score: \", '{:,.3f}'\n",
    "          .format( float(accuracy_score(test, pred)) * 100 ), \"%\")\n",
    "    \n",
    "    print(\"     Precision: \", '{:,.3f}'\n",
    "          .format( float(precision_score(test, pred, average='macro')) * 100 ), \"%\")\n",
    "    \n",
    "    print(\"        Recall: \", '{:,.3f}'\n",
    "          .format( float(recall_score(test, pred, average='macro')) * 100 ), \"%\")\n",
    "    \n",
    "    print(\"      F1 score: \", '{:,.3f}'\n",
    "          .format( float(f1_score(test, pred, average='macro')) * 100 ), \"%\")"
   ]
  },
  {
   "cell_type": "code",
   "execution_count": 34,
   "metadata": {},
   "outputs": [
    {
     "name": "stdout",
     "output_type": "stream",
     "text": [
      "Stochastic Gradient Descent Report (Training Set) :\n",
      "\n",
      "Accuracy Score:  90.335 %\n",
      "     Precision:  92.208 %\n",
      "        Recall:  90.418 %\n",
      "      F1 score:  91.232 %\n"
     ]
    }
   ],
   "source": [
    "from sklearn.model_selection import cross_val_score\n",
    "from sklearn.model_selection import cross_val_predict\n",
    "from sklearn.linear_model import SGDClassifier\n",
    "\n",
    "# SGD instance\n",
    "sgd_clf = SGDClassifier(max_iter=20000, tol=1e-3, random_state=2, n_jobs=4)\n",
    "\n",
    "# train SGD\n",
    "sgd_clf.fit(X_train, y_train)\n",
    "\n",
    "# cross validation predictions\n",
    "sgd_pred = cross_val_predict(sgd_clf, X_train, y_train, cv=3, n_jobs=4)\n",
    "\n",
    "# print out the classification report\n",
    "f_classification_report(\"Stochastic Gradient Descent Report (Training Set)\", y_train, sgd_pred)"
   ]
  },
  {
   "cell_type": "markdown",
   "metadata": {},
   "source": [
    "To test for overfitting, let's see how the model generalizes over the test set"
   ]
  },
  {
   "cell_type": "code",
   "execution_count": 35,
   "metadata": {},
   "outputs": [
    {
     "name": "stdout",
     "output_type": "stream",
     "text": [
      "Stochastic Gradient Descent Report (Training Set) :\n",
      "\n",
      "Accuracy Score:  86.640 %\n",
      "     Precision:  89.469 %\n",
      "        Recall:  86.360 %\n",
      "      F1 score:  87.808 %\n"
     ]
    }
   ],
   "source": [
    "# cross validation predictions\n",
    "sgd_pred = cross_val_predict(sgd_clf, X_test, y_test, cv=3, n_jobs=4)\n",
    "\n",
    "# print out the classification report\n",
    "f_classification_report(\"Stochastic Gradient Descent Report (Training Set)\", y_test, sgd_pred)"
   ]
  },
  {
   "cell_type": "markdown",
   "metadata": {},
   "source": [
    "Now let's see how the model can generalize across the whole dataset."
   ]
  }
 ],
 "metadata": {
  "kernelspec": {
   "display_name": "Python 3",
   "language": "python",
   "name": "python3"
  },
  "language_info": {
   "codemirror_mode": {
    "name": "ipython",
    "version": 3
   },
   "file_extension": ".py",
   "mimetype": "text/x-python",
   "name": "python",
   "nbconvert_exporter": "python",
   "pygments_lexer": "ipython3",
   "version": "3.6.9"
  }
 },
 "nbformat": 4,
 "nbformat_minor": 4
}
